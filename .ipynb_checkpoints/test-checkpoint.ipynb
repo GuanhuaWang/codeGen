{
 "cells": [
  {
   "cell_type": "code",
   "execution_count": 28,
   "metadata": {},
   "outputs": [
    {
     "name": "stdout",
     "output_type": "stream",
     "text": [
      "0     1.0\n",
      "1     0.0\n",
      "2     0.0\n",
      "3     0.0\n",
      "4     1.0\n",
      "5     0.0\n",
      "6     0.0\n",
      "7     0.0\n",
      "8     1.0\n",
      "9     0.0\n",
      "10    0.0\n",
      "11    0.0\n",
      "Name: 5, dtype: float64\n"
     ]
    }
   ],
   "source": [
    "'''\n",
    "/*[[[cog\n",
    "import cog\n",
    "fnames = ['DoSomething', 'DoAnotherThing', 'DoLastThing']\n",
    "for fn in fnames:\n",
    "    cog.outl(\"void %s();\" % fn)\n",
    "]]]*/\n",
    "//[[[end]]]\n",
    "'''\n",
    "\n",
    "import numpy as np\n",
    "import pandas as pd\n",
    "\n",
    "def read_file(name):\n",
    "    data = pd.read_csv(\"input.csv\",sep=\" |[|]\", header = None)\n",
    "    print data[5]\n",
    "    \n",
    "def main():\n",
    "    read_file(\"input.csv\")\n",
    "    \n",
    "if __name__ == \"__main__\":\n",
    "    main()"
   ]
  },
  {
   "cell_type": "code",
   "execution_count": null,
   "metadata": {
    "collapsed": true
   },
   "outputs": [],
   "source": []
  },
  {
   "cell_type": "code",
   "execution_count": null,
   "metadata": {
    "collapsed": true
   },
   "outputs": [],
   "source": []
  }
 ],
 "metadata": {
  "kernelspec": {
   "display_name": "Python 2",
   "language": "python",
   "name": "python2"
  },
  "language_info": {
   "codemirror_mode": {
    "name": "ipython",
    "version": 2
   },
   "file_extension": ".py",
   "mimetype": "text/x-python",
   "name": "python",
   "nbconvert_exporter": "python",
   "pygments_lexer": "ipython2",
   "version": "2.7.14"
  }
 },
 "nbformat": 4,
 "nbformat_minor": 2
}
